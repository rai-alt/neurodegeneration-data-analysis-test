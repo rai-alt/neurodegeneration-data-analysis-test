{
 "cells": [
  {
   "cell_type": "markdown",
   "metadata": {},
   "source": [
    "# Notebook 01 — Project Setup\n",
    "\n",
    "## Objective\n",
    "Define environment, imports and initial checks for exploratory analysis.\n",
    "\n",
    "## Planned steps\n",
    "- Set up Python imports (pandas, matplotlib)\n",
    "- Load sample dataset from external link\n",
    "- Inspect schema and missing values"
   ]
  }
 ],
 "metadata": {},
 "nbformat": 4,
 "nbformat_minor": 5
}
